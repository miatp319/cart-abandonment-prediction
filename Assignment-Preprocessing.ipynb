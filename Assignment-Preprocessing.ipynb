{
 "cells": [
  {
   "cell_type": "code",
   "execution_count": 1,
   "id": "13090b43",
   "metadata": {},
   "outputs": [],
   "source": [
    "# imports\n",
    "import os\n",
    "import numpy as np\n",
    "import pandas as pd\n",
    "import pickle as pkl\n",
    "import seaborn as sns\n",
    "import matplotlib.pyplot as plt"
   ]
  },
  {
   "cell_type": "code",
   "execution_count": 2,
   "id": "c9166da6",
   "metadata": {
    "scrolled": true
   },
   "outputs": [
    {
     "data": {
      "text/html": [
       "<div>\n",
       "<style scoped>\n",
       "    .dataframe tbody tr th:only-of-type {\n",
       "        vertical-align: middle;\n",
       "    }\n",
       "\n",
       "    .dataframe tbody tr th {\n",
       "        vertical-align: top;\n",
       "    }\n",
       "\n",
       "    .dataframe thead th {\n",
       "        text-align: right;\n",
       "    }\n",
       "</style>\n",
       "<table border=\"1\" class=\"dataframe\">\n",
       "  <thead>\n",
       "    <tr style=\"text-align: right;\">\n",
       "      <th></th>\n",
       "      <th>session_id_hash</th>\n",
       "      <th>event_type</th>\n",
       "      <th>product_action</th>\n",
       "      <th>product_sku_hash</th>\n",
       "      <th>server_timestamp_epoch_ms</th>\n",
       "      <th>hashed_url</th>\n",
       "    </tr>\n",
       "  </thead>\n",
       "  <tbody>\n",
       "    <tr>\n",
       "      <th>0</th>\n",
       "      <td>da2a3169afe2f7c5e1d172abbd418483056bae902f6585...</td>\n",
       "      <td>pageview</td>\n",
       "      <td>NaN</td>\n",
       "      <td>NaN</td>\n",
       "      <td>1550358404388</td>\n",
       "      <td>d37f603d410e900ee39a2994170670cde3e55a8a35efcd...</td>\n",
       "    </tr>\n",
       "    <tr>\n",
       "      <th>1</th>\n",
       "      <td>da2a3169afe2f7c5e1d172abbd418483056bae902f6585...</td>\n",
       "      <td>event_product</td>\n",
       "      <td>detail</td>\n",
       "      <td>59b2c0292b47455092d07c27e80da9130faca4e79f0189...</td>\n",
       "      <td>1550358404388</td>\n",
       "      <td>d37f603d410e900ee39a2994170670cde3e55a8a35efcd...</td>\n",
       "    </tr>\n",
       "    <tr>\n",
       "      <th>2</th>\n",
       "      <td>da2a3169afe2f7c5e1d172abbd418483056bae902f6585...</td>\n",
       "      <td>event_product</td>\n",
       "      <td>detail</td>\n",
       "      <td>7f5626cf0780cb6be28edd5b99cdaed4e65badb2166e72...</td>\n",
       "      <td>1550358413563</td>\n",
       "      <td>92b77633d47e4b2c570a40eb6030c771ab29c94a6bf8c3...</td>\n",
       "    </tr>\n",
       "    <tr>\n",
       "      <th>3</th>\n",
       "      <td>da2a3169afe2f7c5e1d172abbd418483056bae902f6585...</td>\n",
       "      <td>pageview</td>\n",
       "      <td>NaN</td>\n",
       "      <td>NaN</td>\n",
       "      <td>1550358413563</td>\n",
       "      <td>92b77633d47e4b2c570a40eb6030c771ab29c94a6bf8c3...</td>\n",
       "    </tr>\n",
       "    <tr>\n",
       "      <th>4</th>\n",
       "      <td>da2a3169afe2f7c5e1d172abbd418483056bae902f6585...</td>\n",
       "      <td>pageview</td>\n",
       "      <td>NaN</td>\n",
       "      <td>NaN</td>\n",
       "      <td>1550358439013</td>\n",
       "      <td>d37f603d410e900ee39a2994170670cde3e55a8a35efcd...</td>\n",
       "    </tr>\n",
       "  </tbody>\n",
       "</table>\n",
       "</div>"
      ],
      "text/plain": [
       "                                     session_id_hash     event_type  \\\n",
       "0  da2a3169afe2f7c5e1d172abbd418483056bae902f6585...       pageview   \n",
       "1  da2a3169afe2f7c5e1d172abbd418483056bae902f6585...  event_product   \n",
       "2  da2a3169afe2f7c5e1d172abbd418483056bae902f6585...  event_product   \n",
       "3  da2a3169afe2f7c5e1d172abbd418483056bae902f6585...       pageview   \n",
       "4  da2a3169afe2f7c5e1d172abbd418483056bae902f6585...       pageview   \n",
       "\n",
       "  product_action                                   product_sku_hash  \\\n",
       "0            NaN                                                NaN   \n",
       "1         detail  59b2c0292b47455092d07c27e80da9130faca4e79f0189...   \n",
       "2         detail  7f5626cf0780cb6be28edd5b99cdaed4e65badb2166e72...   \n",
       "3            NaN                                                NaN   \n",
       "4            NaN                                                NaN   \n",
       "\n",
       "   server_timestamp_epoch_ms  \\\n",
       "0              1550358404388   \n",
       "1              1550358404388   \n",
       "2              1550358413563   \n",
       "3              1550358413563   \n",
       "4              1550358439013   \n",
       "\n",
       "                                          hashed_url  \n",
       "0  d37f603d410e900ee39a2994170670cde3e55a8a35efcd...  \n",
       "1  d37f603d410e900ee39a2994170670cde3e55a8a35efcd...  \n",
       "2  92b77633d47e4b2c570a40eb6030c771ab29c94a6bf8c3...  \n",
       "3  92b77633d47e4b2c570a40eb6030c771ab29c94a6bf8c3...  \n",
       "4  d37f603d410e900ee39a2994170670cde3e55a8a35efcd...  "
      ]
     },
     "execution_count": 2,
     "metadata": {},
     "output_type": "execute_result"
    }
   ],
   "source": [
    "#read dataset\n",
    "raw_df = pd.read_csv('data/training_data_subset.csv',sep=',',header=0)\n",
    "raw_df.head()"
   ]
  },
  {
   "cell_type": "code",
   "execution_count": 3,
   "id": "d57f2d35",
   "metadata": {},
   "outputs": [
    {
     "name": "stdout",
     "output_type": "stream",
     "text": [
      "event types: {'pageview', 'event_product'}\n",
      "product actions: {'detail', nan, 'remove', 'purchase', 'add'}\n",
      "unique session IDs: 1974586\n",
      "unique product SKUs: 43552\n"
     ]
    }
   ],
   "source": [
    "print('event types: {}'.format(set(raw_df['event_type'])))\n",
    "print('product actions: {}'.format(set(raw_df['product_action'])))\n",
    "print('unique session IDs: {}'.format(len(set(raw_df['session_id_hash']))))\n",
    "print('unique product SKUs: {}'.format(len(set(raw_df['product_sku_hash']))))"
   ]
  },
  {
   "cell_type": "markdown",
   "id": "f3ad3780",
   "metadata": {},
   "source": [
    "# 0. Pre-processing"
   ]
  },
  {
   "cell_type": "markdown",
   "id": "cebb8874",
   "metadata": {},
   "source": [
    "## 0.1 Filter out sessions with no add-to-cart"
   ]
  },
  {
   "cell_type": "code",
   "execution_count": 4,
   "id": "e2bdafa5",
   "metadata": {},
   "outputs": [
    {
     "name": "stdout",
     "output_type": "stream",
     "text": [
      "1974586\n"
     ]
    },
    {
     "data": {
      "text/html": [
       "<div>\n",
       "<style scoped>\n",
       "    .dataframe tbody tr th:only-of-type {\n",
       "        vertical-align: middle;\n",
       "    }\n",
       "\n",
       "    .dataframe tbody tr th {\n",
       "        vertical-align: top;\n",
       "    }\n",
       "\n",
       "    .dataframe thead th {\n",
       "        text-align: right;\n",
       "    }\n",
       "</style>\n",
       "<table border=\"1\" class=\"dataframe\">\n",
       "  <thead>\n",
       "    <tr style=\"text-align: right;\">\n",
       "      <th></th>\n",
       "      <th>session_id_hash</th>\n",
       "      <th>product_action</th>\n",
       "    </tr>\n",
       "  </thead>\n",
       "  <tbody>\n",
       "    <tr>\n",
       "      <th>0</th>\n",
       "      <td>00000114e1075962f022114fcfc17f2d874e694ac5d201...</td>\n",
       "      <td>[view, detail, add, view, view, view, view, vi...</td>\n",
       "    </tr>\n",
       "    <tr>\n",
       "      <th>1</th>\n",
       "      <td>00000277639fc5c6f816654b78bf3654ece7fd53a7338f...</td>\n",
       "      <td>[view, view, view, view, view, view]</td>\n",
       "    </tr>\n",
       "    <tr>\n",
       "      <th>2</th>\n",
       "      <td>00001355930ff05e66ab30bccff221c33eba90e1517397...</td>\n",
       "      <td>[view, detail]</td>\n",
       "    </tr>\n",
       "    <tr>\n",
       "      <th>3</th>\n",
       "      <td>000024f4f0071f59b3fde8d0bdf2517a3767f29ef25a90...</td>\n",
       "      <td>[view, view, view, detail, view]</td>\n",
       "    </tr>\n",
       "    <tr>\n",
       "      <th>4</th>\n",
       "      <td>000033a81d6ae0e9b6ad1952348a2759f14fd688095b6d...</td>\n",
       "      <td>[view, view, view, view, view, view, view, vie...</td>\n",
       "    </tr>\n",
       "  </tbody>\n",
       "</table>\n",
       "</div>"
      ],
      "text/plain": [
       "                                     session_id_hash  \\\n",
       "0  00000114e1075962f022114fcfc17f2d874e694ac5d201...   \n",
       "1  00000277639fc5c6f816654b78bf3654ece7fd53a7338f...   \n",
       "2  00001355930ff05e66ab30bccff221c33eba90e1517397...   \n",
       "3  000024f4f0071f59b3fde8d0bdf2517a3767f29ef25a90...   \n",
       "4  000033a81d6ae0e9b6ad1952348a2759f14fd688095b6d...   \n",
       "\n",
       "                                      product_action  \n",
       "0  [view, detail, add, view, view, view, view, vi...  \n",
       "1               [view, view, view, view, view, view]  \n",
       "2                                     [view, detail]  \n",
       "3                   [view, view, view, detail, view]  \n",
       "4  [view, view, view, view, view, view, view, vie...  "
      ]
     },
     "execution_count": 4,
     "metadata": {},
     "output_type": "execute_result"
    }
   ],
   "source": [
    "raw_df['product_action'] = raw_df['product_action'].fillna('view')\n",
    "df = raw_df.groupby('session_id_hash')['product_action'].agg(list).reset_index()\n",
    "print(len(df))\n",
    "df.head()"
   ]
  },
  {
   "cell_type": "code",
   "execution_count": 5,
   "id": "e491a8b4",
   "metadata": {},
   "outputs": [
    {
     "name": "stdout",
     "output_type": "stream",
     "text": [
      "86122\n"
     ]
    },
    {
     "data": {
      "text/html": [
       "<div>\n",
       "<style scoped>\n",
       "    .dataframe tbody tr th:only-of-type {\n",
       "        vertical-align: middle;\n",
       "    }\n",
       "\n",
       "    .dataframe tbody tr th {\n",
       "        vertical-align: top;\n",
       "    }\n",
       "\n",
       "    .dataframe thead th {\n",
       "        text-align: right;\n",
       "    }\n",
       "</style>\n",
       "<table border=\"1\" class=\"dataframe\">\n",
       "  <thead>\n",
       "    <tr style=\"text-align: right;\">\n",
       "      <th></th>\n",
       "      <th>session_id_hash</th>\n",
       "      <th>product_action</th>\n",
       "      <th>len_before</th>\n",
       "    </tr>\n",
       "  </thead>\n",
       "  <tbody>\n",
       "    <tr>\n",
       "      <th>548932</th>\n",
       "      <td>47337e13234b321b60396b353ed79b5167e5416b9da3fe...</td>\n",
       "      <td>[add]</td>\n",
       "      <td>1</td>\n",
       "    </tr>\n",
       "    <tr>\n",
       "      <th>734012</th>\n",
       "      <td>5f350b64e104fb244dca77fbe19b6c7456a9428f58081f...</td>\n",
       "      <td>[add]</td>\n",
       "      <td>1</td>\n",
       "    </tr>\n",
       "    <tr>\n",
       "      <th>288795</th>\n",
       "      <td>256ed9b1f85b0b6791a138d770a79fd6defe44a15ac270...</td>\n",
       "      <td>[add]</td>\n",
       "      <td>1</td>\n",
       "    </tr>\n",
       "    <tr>\n",
       "      <th>1711558</th>\n",
       "      <td>dddd7196296aae784fb3e9c7df518c975a0edf79a94f90...</td>\n",
       "      <td>[add]</td>\n",
       "      <td>1</td>\n",
       "    </tr>\n",
       "    <tr>\n",
       "      <th>1134281</th>\n",
       "      <td>93111adcd183fffbe39e459b032face5677a83b6c0e11c...</td>\n",
       "      <td>[add]</td>\n",
       "      <td>1</td>\n",
       "    </tr>\n",
       "  </tbody>\n",
       "</table>\n",
       "</div>"
      ],
      "text/plain": [
       "                                           session_id_hash product_action  \\\n",
       "548932   47337e13234b321b60396b353ed79b5167e5416b9da3fe...          [add]   \n",
       "734012   5f350b64e104fb244dca77fbe19b6c7456a9428f58081f...          [add]   \n",
       "288795   256ed9b1f85b0b6791a138d770a79fd6defe44a15ac270...          [add]   \n",
       "1711558  dddd7196296aae784fb3e9c7df518c975a0edf79a94f90...          [add]   \n",
       "1134281  93111adcd183fffbe39e459b032face5677a83b6c0e11c...          [add]   \n",
       "\n",
       "         len_before  \n",
       "548932            1  \n",
       "734012            1  \n",
       "288795            1  \n",
       "1711558           1  \n",
       "1134281           1  "
      ]
     },
     "execution_count": 5,
     "metadata": {},
     "output_type": "execute_result"
    }
   ],
   "source": [
    "df = df[df['product_action'].apply(lambda x: 'add' in x)]\n",
    "df['len_before']=df['product_action'].map(len)\n",
    "print(len(df))\n",
    "df.sort_values(by='len_before').head()"
   ]
  },
  {
   "cell_type": "markdown",
   "id": "89ca38fd",
   "metadata": {},
   "source": [
    "## 0.2 Label the sessions (1: conversions; 0: cart-abandonement)"
   ]
  },
  {
   "cell_type": "code",
   "execution_count": 6,
   "id": "b44847d7",
   "metadata": {},
   "outputs": [
    {
     "data": {
      "text/html": [
       "<div>\n",
       "<style scoped>\n",
       "    .dataframe tbody tr th:only-of-type {\n",
       "        vertical-align: middle;\n",
       "    }\n",
       "\n",
       "    .dataframe tbody tr th {\n",
       "        vertical-align: top;\n",
       "    }\n",
       "\n",
       "    .dataframe thead th {\n",
       "        text-align: right;\n",
       "    }\n",
       "</style>\n",
       "<table border=\"1\" class=\"dataframe\">\n",
       "  <thead>\n",
       "    <tr style=\"text-align: right;\">\n",
       "      <th></th>\n",
       "      <th>session_id_hash</th>\n",
       "      <th>product_action</th>\n",
       "      <th>len_before</th>\n",
       "      <th>convert</th>\n",
       "    </tr>\n",
       "  </thead>\n",
       "  <tbody>\n",
       "    <tr>\n",
       "      <th>0</th>\n",
       "      <td>00000114e1075962f022114fcfc17f2d874e694ac5d201...</td>\n",
       "      <td>[view, detail, add, view, view, view, view, vi...</td>\n",
       "      <td>18</td>\n",
       "      <td>0</td>\n",
       "    </tr>\n",
       "    <tr>\n",
       "      <th>32</th>\n",
       "      <td>00010d84aca1294479304044207fd268f63228844779c6...</td>\n",
       "      <td>[view, view, view, detail, view, view, view, v...</td>\n",
       "      <td>41</td>\n",
       "      <td>0</td>\n",
       "    </tr>\n",
       "    <tr>\n",
       "      <th>79</th>\n",
       "      <td>0002629c632e1d3211649ba4498194a13a280c35c6bd57...</td>\n",
       "      <td>[view, detail, view, view, view, view, view, v...</td>\n",
       "      <td>58</td>\n",
       "      <td>1</td>\n",
       "    </tr>\n",
       "    <tr>\n",
       "      <th>140</th>\n",
       "      <td>0004be10f232d2ebd86be1c1c46dcf741ee77651bc550d...</td>\n",
       "      <td>[view, view, view, view, view, view, view, det...</td>\n",
       "      <td>15</td>\n",
       "      <td>0</td>\n",
       "    </tr>\n",
       "    <tr>\n",
       "      <th>168</th>\n",
       "      <td>00057b97a81dbf743e2687b0fd43b67e86d5ced77c828d...</td>\n",
       "      <td>[detail, view, add, view]</td>\n",
       "      <td>4</td>\n",
       "      <td>0</td>\n",
       "    </tr>\n",
       "  </tbody>\n",
       "</table>\n",
       "</div>"
      ],
      "text/plain": [
       "                                       session_id_hash  \\\n",
       "0    00000114e1075962f022114fcfc17f2d874e694ac5d201...   \n",
       "32   00010d84aca1294479304044207fd268f63228844779c6...   \n",
       "79   0002629c632e1d3211649ba4498194a13a280c35c6bd57...   \n",
       "140  0004be10f232d2ebd86be1c1c46dcf741ee77651bc550d...   \n",
       "168  00057b97a81dbf743e2687b0fd43b67e86d5ced77c828d...   \n",
       "\n",
       "                                        product_action  len_before  convert  \n",
       "0    [view, detail, add, view, view, view, view, vi...          18        0  \n",
       "32   [view, view, view, detail, view, view, view, v...          41        0  \n",
       "79   [view, detail, view, view, view, view, view, v...          58        1  \n",
       "140  [view, view, view, view, view, view, view, det...          15        0  \n",
       "168                          [detail, view, add, view]           4        0  "
      ]
     },
     "execution_count": 6,
     "metadata": {},
     "output_type": "execute_result"
    }
   ],
   "source": [
    "df['convert'] = df['product_action'].apply(lambda x: 'purchase' in x).astype(int)\n",
    "df.head()"
   ]
  },
  {
   "cell_type": "code",
   "execution_count": 7,
   "id": "a2921fd7",
   "metadata": {},
   "outputs": [
    {
     "name": "stdout",
     "output_type": "stream",
     "text": [
      "convert\n",
      "0    67693\n",
      "1    18429\n",
      "Name: session_id_hash, dtype: int64\n"
     ]
    }
   ],
   "source": [
    "#Count the number of sessions with and without purchase event\n",
    "counts = df.groupby('convert')['session_id_hash'].agg(lambda x: len(set(x)))\n",
    "print(counts)"
   ]
  },
  {
   "cell_type": "markdown",
   "id": "8de62ef7",
   "metadata": {},
   "source": [
    "# 0.3 Trim the purchase sessions to the last event before the first purchase"
   ]
  },
  {
   "cell_type": "code",
   "execution_count": 8,
   "id": "a38a651d",
   "metadata": {
    "scrolled": true
   },
   "outputs": [
    {
     "name": "stdout",
     "output_type": "stream",
     "text": [
      "86122\n",
      "                                       session_id_hash  \\\n",
      "0    00000114e1075962f022114fcfc17f2d874e694ac5d201...   \n",
      "32   00010d84aca1294479304044207fd268f63228844779c6...   \n",
      "79   0002629c632e1d3211649ba4498194a13a280c35c6bd57...   \n",
      "140  0004be10f232d2ebd86be1c1c46dcf741ee77651bc550d...   \n",
      "168  00057b97a81dbf743e2687b0fd43b67e86d5ced77c828d...   \n",
      "\n",
      "                                        product_action  len_before  convert  \n",
      "0    [view, detail, add, view, view, view, view, vi...          18        0  \n",
      "32   [view, view, view, detail, view, view, view, v...          41        0  \n",
      "79   [view, detail, view, view, view, view, view, v...          58        1  \n",
      "140  [view, view, view, view, view, view, view, det...          15        0  \n",
      "168                          [detail, view, add, view]           4        0  \n"
     ]
    }
   ],
   "source": [
    "target_action = 'purchase'\n",
    "\n",
    "def filter_purchase(session_list, target):\n",
    "    try:\n",
    "        purchase_idx = session_list.index(target)\n",
    "        return session_list[:purchase_idx]  # Return the sublist of events before 'purchase'\n",
    "    except ValueError:\n",
    "        return session_list  # Return the original list if 'purchase' is not found\n",
    "\n",
    "# Applying the function to each group (session)\n",
    "df['product_action'] = df['product_action'].apply(filter_purchase, target=target_action)\n",
    "\n",
    "# Displaying the result\n",
    "print(len(df))\n",
    "print(df.head(5))\n"
   ]
  },
  {
   "cell_type": "markdown",
   "id": "d8568a26",
   "metadata": {},
   "source": [
    "## 0.4 Filter sessions that are too short (shorter than 5 events) or too long (longer than 100 events)"
   ]
  },
  {
   "cell_type": "code",
   "execution_count": 9,
   "id": "e9765245",
   "metadata": {
    "scrolled": true
   },
   "outputs": [
    {
     "name": "stdout",
     "output_type": "stream",
     "text": [
      "78011\n",
      "                                           session_id_hash  \\\n",
      "1227584  9f242e4ffc641acac17c2f0be166bd5a02b4108d045186...   \n",
      "75067    09b1777bb7fa6ef9f89bc98db4e59bac3d139f72f9da44...   \n",
      "1540946  c7ba467397609db892395005cd269c92a1115a4cd21446...   \n",
      "124293   1010dd31f9cce114c10bfd8c97f0377fc0b5b2c96a4c62...   \n",
      "1212861  9d413a65650ee806b287fe70c1e5ba7d1433c3a65c4fc7...   \n",
      "843643   6d6489dcb21a34025b64c1f2885df20ada092c2f993335...   \n",
      "1473160  befaf387209b430910f023644813640363bd3ccd19f637...   \n",
      "240398   1f26062cc448daf8970bc392d5fbd685fd5c393925f5cb...   \n",
      "1330347  ac7968f0dc2ab16c2a92aeb6abfbd5b516eda254d504e0...   \n",
      "1608155  d0749996c4bd85825cd0309589ea0af32caf2d8667d5fd...   \n",
      "\n",
      "                                            product_action  len_before  \\\n",
      "1227584  [view, detail, detail, view, view, detail, det...         200   \n",
      "75067    [view, view, view, view, detail, view, view, v...         200   \n",
      "1540946  [view, view, view, detail, view, detail, detai...         199   \n",
      "124293   [view, detail, view, detail, detail, view, det...         199   \n",
      "1212861  [view, view, view, detail, add, view, view, de...         199   \n",
      "843643   [view, view, detail, view, view, view, view, v...         195   \n",
      "1473160  [view, view, view, view, view, view, view, vie...         191   \n",
      "240398   [view, view, view, add, view, view, view, view...         180   \n",
      "1330347  [view, view, detail, view, view, detail, view,...         178   \n",
      "1608155  [view, view, view, view, detail, view, detail,...         178   \n",
      "\n",
      "         convert  len_after  \n",
      "1227584        1         32  \n",
      "75067          1         79  \n",
      "1540946        1         96  \n",
      "124293         1         97  \n",
      "1212861        1         81  \n",
      "843643         1         50  \n",
      "1473160        1         22  \n",
      "240398         1         38  \n",
      "1330347        1         20  \n",
      "1608155        1         44  \n"
     ]
    }
   ],
   "source": [
    "df = df[df['product_action'].apply(lambda x: len(x)>=5 and len(x)<=100)]\n",
    "df['len_after']=df['product_action'].map(len)\n",
    "print(len(df))\n",
    "print(df.sort_values(by='len_before',ascending = False).head(10))"
   ]
  },
  {
   "cell_type": "markdown",
   "id": "6c379c92",
   "metadata": {},
   "source": [
    "# 0.5 Symbolise the session"
   ]
  },
  {
   "cell_type": "code",
   "execution_count": 10,
   "id": "bf9213c0",
   "metadata": {},
   "outputs": [
    {
     "name": "stdout",
     "output_type": "stream",
     "text": [
      "[['view', 'detail', 'add', 'view', 'view', 'view', 'view', 'view', 'view', 'view', 'detail', 'view', 'view', 'detail', 'view', 'view', 'detail', 'view'], ['view', 'view', 'view', 'detail', 'view', 'view', 'view', 'view', 'view', 'view', 'detail', 'view', 'view', 'view', 'view', 'detail', 'add', 'view', 'view', 'view', 'view', 'view', 'view', 'view', 'view', 'detail', 'view', 'add', 'view', 'view', 'detail', 'view', 'view', 'view', 'detail', 'view', 'detail', 'view', 'view', 'view', 'view'], ['view', 'detail', 'view', 'view', 'view', 'view', 'view', 'view', 'view', 'view', 'view', 'view', 'detail', 'add', 'remove', 'view', 'remove', 'add', 'remove', 'view', 'remove', 'view', 'remove', 'remove', 'remove', 'view', 'view', 'remove', 'view', 'view', 'view', 'view', 'remove', 'view', 'remove', 'view', 'remove', 'remove', 'remove', 'remove', 'remove', 'remove', 'remove', 'remove'], ['view', 'view', 'view', 'view', 'view', 'view', 'view', 'detail', 'view', 'add', 'view', 'view', 'detail', 'add', 'view'], ['view', 'view', 'view', 'view', 'view', 'view', 'detail', 'view', 'view', 'view', 'detail', 'view', 'detail', 'view', 'view', 'view', 'view', 'view', 'detail', 'view', 'detail', 'view', 'view', 'view', 'view', 'view', 'view', 'detail', 'view', 'add', 'view', 'view', 'detail', 'view', 'detail', 'view', 'view', 'view', 'detail', 'view', 'detail', 'view', 'view', 'view', 'view', 'view', 'detail', 'view', 'view', 'view']]\n",
      "[0, 0, 1, 0, 0]\n"
     ]
    }
   ],
   "source": [
    "from collections import Counter\n",
    "\n",
    "sessions = df['product_action'].to_list()\n",
    "labels = df['convert'].to_list()\n",
    "print(sessions[:5])\n",
    "print(labels[:5])"
   ]
  },
  {
   "cell_type": "code",
   "execution_count": 11,
   "id": "efedc05c",
   "metadata": {},
   "outputs": [
    {
     "name": "stdout",
     "output_type": "stream",
     "text": [
      "{'view': 1, 'detail': 2, 'add': 3, 'remove': 4}\n",
      "[[1, 2, 3, 1, 1, 1, 1, 1, 1, 1, 2, 1, 1, 2, 1, 1, 2, 1], [1, 1, 1, 2, 1, 1, 1, 1, 1, 1, 2, 1, 1, 1, 1, 2, 3, 1, 1, 1, 1, 1, 1, 1, 1, 2, 1, 3, 1, 1, 2, 1, 1, 1, 2, 1, 2, 1, 1, 1, 1], [1, 2, 1, 1, 1, 1, 1, 1, 1, 1, 1, 1, 2, 3, 4, 1, 4, 3, 4, 1, 4, 1, 4, 4, 4, 1, 1, 4, 1, 1, 1, 1, 4, 1, 4, 1, 4, 4, 4, 4, 4, 4, 4, 4], [1, 1, 1, 1, 1, 1, 1, 2, 1, 3, 1, 1, 2, 3, 1], [1, 1, 1, 1, 1, 1, 2, 1, 1, 1, 2, 1, 2, 1, 1, 1, 1, 1, 2, 1, 2, 1, 1, 1, 1, 1, 1, 2, 1, 3, 1, 1, 2, 1, 2, 1, 1, 1, 2, 1, 2, 1, 1, 1, 1, 1, 2, 1, 1, 1]]\n"
     ]
    }
   ],
   "source": [
    "counts = Counter([item for session in sessions for item in session]) #list comprehension\n",
    "# I'm not going to use it, but I'm saving the 0 for padding sessions when symbolising\n",
    "symbol2idx = {\n",
    "    symbol: idx for idx, symbol in enumerate(sorted(counts, key=counts.get, reverse=True), 1)\n",
    "}\n",
    "print(symbol2idx)\n",
    "\n",
    "symbolised_sessions = []\n",
    "for idx, session in enumerate(sessions):\n",
    "    symbolised_session = [symbol2idx[s] for s in session]\n",
    "    symbolised_sessions.append(symbolised_session)\n",
    "print(symbolised_sessions[:5])"
   ]
  },
  {
   "cell_type": "code",
   "execution_count": 12,
   "id": "770e9d31",
   "metadata": {
    "scrolled": true
   },
   "outputs": [
    {
     "data": {
      "text/html": [
       "<div>\n",
       "<style scoped>\n",
       "    .dataframe tbody tr th:only-of-type {\n",
       "        vertical-align: middle;\n",
       "    }\n",
       "\n",
       "    .dataframe tbody tr th {\n",
       "        vertical-align: top;\n",
       "    }\n",
       "\n",
       "    .dataframe thead th {\n",
       "        text-align: right;\n",
       "    }\n",
       "</style>\n",
       "<table border=\"1\" class=\"dataframe\">\n",
       "  <thead>\n",
       "    <tr style=\"text-align: right;\">\n",
       "      <th></th>\n",
       "      <th>session_id_hash</th>\n",
       "      <th>product_action</th>\n",
       "      <th>len_before</th>\n",
       "      <th>convert</th>\n",
       "      <th>len_after</th>\n",
       "    </tr>\n",
       "  </thead>\n",
       "  <tbody>\n",
       "    <tr>\n",
       "      <th>0</th>\n",
       "      <td>00000114e1075962f022114fcfc17f2d874e694ac5d201...</td>\n",
       "      <td>[view, detail, add, view, view, view, view, vi...</td>\n",
       "      <td>18</td>\n",
       "      <td>0</td>\n",
       "      <td>18</td>\n",
       "    </tr>\n",
       "    <tr>\n",
       "      <th>32</th>\n",
       "      <td>00010d84aca1294479304044207fd268f63228844779c6...</td>\n",
       "      <td>[view, view, view, detail, view, view, view, v...</td>\n",
       "      <td>41</td>\n",
       "      <td>0</td>\n",
       "      <td>41</td>\n",
       "    </tr>\n",
       "    <tr>\n",
       "      <th>79</th>\n",
       "      <td>0002629c632e1d3211649ba4498194a13a280c35c6bd57...</td>\n",
       "      <td>[view, detail, view, view, view, view, view, v...</td>\n",
       "      <td>58</td>\n",
       "      <td>1</td>\n",
       "      <td>44</td>\n",
       "    </tr>\n",
       "    <tr>\n",
       "      <th>140</th>\n",
       "      <td>0004be10f232d2ebd86be1c1c46dcf741ee77651bc550d...</td>\n",
       "      <td>[view, view, view, view, view, view, view, det...</td>\n",
       "      <td>15</td>\n",
       "      <td>0</td>\n",
       "      <td>15</td>\n",
       "    </tr>\n",
       "    <tr>\n",
       "      <th>179</th>\n",
       "      <td>0005ea00d00f64fbfaaa8b110f268025ba8ad963d8fdd3...</td>\n",
       "      <td>[view, view, view, view, view, view, detail, v...</td>\n",
       "      <td>50</td>\n",
       "      <td>0</td>\n",
       "      <td>50</td>\n",
       "    </tr>\n",
       "  </tbody>\n",
       "</table>\n",
       "</div>"
      ],
      "text/plain": [
       "                                       session_id_hash  \\\n",
       "0    00000114e1075962f022114fcfc17f2d874e694ac5d201...   \n",
       "32   00010d84aca1294479304044207fd268f63228844779c6...   \n",
       "79   0002629c632e1d3211649ba4498194a13a280c35c6bd57...   \n",
       "140  0004be10f232d2ebd86be1c1c46dcf741ee77651bc550d...   \n",
       "179  0005ea00d00f64fbfaaa8b110f268025ba8ad963d8fdd3...   \n",
       "\n",
       "                                        product_action  len_before  convert  \\\n",
       "0    [view, detail, add, view, view, view, view, vi...          18        0   \n",
       "32   [view, view, view, detail, view, view, view, v...          41        0   \n",
       "79   [view, detail, view, view, view, view, view, v...          58        1   \n",
       "140  [view, view, view, view, view, view, view, det...          15        0   \n",
       "179  [view, view, view, view, view, view, detail, v...          50        0   \n",
       "\n",
       "     len_after  \n",
       "0           18  \n",
       "32          41  \n",
       "79          44  \n",
       "140         15  \n",
       "179         50  "
      ]
     },
     "execution_count": 12,
     "metadata": {},
     "output_type": "execute_result"
    }
   ],
   "source": [
    "df.head()"
   ]
  },
  {
   "cell_type": "code",
   "execution_count": 13,
   "id": "a643bd66",
   "metadata": {},
   "outputs": [],
   "source": [
    "import json\n",
    "\n",
    "json.dump(symbolised_sessions, open(\"data/symbolised_sessions_group27.json\", \"w\"))\n",
    "json.dump(labels, open(\"data/labels_group27.json\", \"w\"))"
   ]
  },
  {
   "cell_type": "markdown",
   "id": "b7a5ca77",
   "metadata": {},
   "source": [
    "## 0.6 Trim it to 10 events after the first add-to-cart (only for experimental model)"
   ]
  },
  {
   "cell_type": "code",
   "execution_count": 14,
   "id": "3d4a2951",
   "metadata": {},
   "outputs": [],
   "source": [
    "# target_event = 'add'\n",
    "\n",
    "# def filter_add_to_cart(session_list, target_event):\n",
    "#     try:\n",
    "#         add_idx = session_list.index(target_event)\n",
    "#         return session_list[:add_idx + 10]  # Return the sublist of events before 'add_to_cart\n",
    "#     except ValueError:\n",
    "#         return session_list  # Return the original list if < than 5\n",
    "\n",
    "# # Applying the function to each group (session)\n",
    "# df['product_action'] = df['product_action'].apply(filter_add_to_cart, target_event=target_event)\n",
    "\n",
    "# # Displaying the result\n",
    "# print(len(df))\n",
    "# print(df.head(5))"
   ]
  },
  {
   "cell_type": "code",
   "execution_count": 15,
   "id": "09d0e9cb",
   "metadata": {},
   "outputs": [],
   "source": [
    "#Export csv if you want to see the information more intuitively, but when training the model, we will use 2 json files above\n",
    "# exported_df = df[['session_id_hash','product_action','convert', 'len_after']]\n",
    "# exported_df.to_csv('preprocessing_group27.csv',sep=',')"
   ]
  },
  {
   "cell_type": "markdown",
   "id": "970040a8",
   "metadata": {},
   "source": [
    "# 0.7 Split into train and test set"
   ]
  },
  {
   "cell_type": "code",
   "execution_count": 16,
   "id": "45c26cf3",
   "metadata": {},
   "outputs": [],
   "source": [
    "# train, test splits\n",
    "np.random.seed(2727)\n",
    "train_ids = np.random.choice(\n",
    "    len(symbolised_sessions), int(np.floor(len(symbolised_sessions)*0.8)), replace=False\n",
    ")\n",
    "training_sessions, training_labels, eval_sessions, eval_labels = [], [], [], []\n",
    "for idx, (session, label) in enumerate(zip(symbolised_sessions, labels)):\n",
    "    if idx in train_ids:\n",
    "        training_sessions.append(session)\n",
    "        training_labels.append(label)\n",
    "    else:\n",
    "        eval_sessions.append(session)\n",
    "        eval_labels.append(label)"
   ]
  },
  {
   "cell_type": "code",
   "execution_count": 17,
   "id": "be421e4e",
   "metadata": {},
   "outputs": [],
   "source": [
    "# a further checkpoint to save our progress\n",
    "import json\n",
    "\n",
    "json.dump(training_sessions, open(\"data/symbolised_sessions_training_group27.json\", \"w\"))\n",
    "json.dump(training_labels, open(\"data/labels_training_group27.json\", \"w\"))\n",
    "json.dump(eval_sessions, open(\"data/symbolised_sessions_eval_group27.json\", \"w\"))\n",
    "json.dump(eval_labels, open(\"data/labels_eval_group27.json\", \"w\"))"
   ]
  }
 ],
 "metadata": {
  "kernelspec": {
   "display_name": "Python 3 (ipykernel)",
   "language": "python",
   "name": "python3"
  },
  "language_info": {
   "codemirror_mode": {
    "name": "ipython",
    "version": 3
   },
   "file_extension": ".py",
   "mimetype": "text/x-python",
   "name": "python",
   "nbconvert_exporter": "python",
   "pygments_lexer": "ipython3",
   "version": "3.11.3"
  }
 },
 "nbformat": 4,
 "nbformat_minor": 5
}
